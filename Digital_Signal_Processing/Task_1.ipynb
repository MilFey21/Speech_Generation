{
 "cells": [
  {
   "cell_type": "markdown",
   "metadata": {},
   "source": [
    "# Task 1\n",
    "Implement a PyTorch layer for extraction of logarithms of Mel-scale Filterbank energies"
   ]
  },
  {
   "cell_type": "code",
   "execution_count": 1,
   "metadata": {},
   "outputs": [],
   "source": [
    "import torch\n",
    "import torchaudio\n",
    "import matplotlib.pyplot as plt\n",
    "from torchaudio.transforms import MelSpectrogram\n",
    "from melbanks import LogMelFilterBanks\n",
    "import random"
   ]
  },
  {
   "cell_type": "code",
   "execution_count": 2,
   "metadata": {},
   "outputs": [],
   "source": [
    "random_seed = 42\n",
    "random.seed(random_seed)"
   ]
  },
  {
   "cell_type": "code",
   "execution_count": 3,
   "metadata": {},
   "outputs": [
    {
     "name": "stdout",
     "output_type": "stream",
     "text": [
      "Audio shape: torch.Size([1, 16000])\n",
      "Sample rate: 16000 Hz\n"
     ]
    }
   ],
   "source": [
    "# loading data\n",
    "wav_path = 'C:/Users/NUC/Documents/ITMO/Speech_Gen/Digital_Signal_Processing/data/cat/00f0204f_nohash_1.wav'\n",
    "signal, sr = torchaudio.load(wav_path)\n",
    "\n",
    "print(f\"Audio shape: {signal.shape}\")\n",
    "print(f\"Sample rate: {sr} Hz\")"
   ]
  },
  {
   "cell_type": "code",
   "execution_count": 4,
   "metadata": {},
   "outputs": [
    {
     "name": "stdout",
     "output_type": "stream",
     "text": [
      "power_spectrogram torch.Size([1, 201, 101])\n",
      "mel_spectrogram torch.Size([1, 80, 101])\n"
     ]
    }
   ],
   "source": [
    "# defining melbanks\n",
    "log_mel_fbanks = LogMelFilterBanks(\n",
    "    n_fft=400,\n",
    "    samplerate=sr,\n",
    "    hop_length=160,\n",
    "    n_mels=80,\n",
    "    f_max_hz=sr / 2.0 \n",
    ")\n",
    "\n",
    "# mel spectrogram\n",
    "mel_spec_torchaudio = MelSpectrogram(\n",
    "    sample_rate=sr,\n",
    "    n_fft=400,\n",
    "    hop_length=160,\n",
    "    n_mels=80,\n",
    "    power=2.0,\n",
    ")\n",
    "\n",
    "log_mel_output = log_mel_fbanks(signal)\n",
    "mel_output_torchaudio = mel_spec_torchaudio(signal)\n",
    "log_mel_torchaudio = 10 * torch.log10(torch.clamp(mel_output_torchaudio, min=1e-10))"
   ]
  },
  {
   "cell_type": "code",
   "execution_count": 48,
   "metadata": {},
   "outputs": [
    {
     "name": "stdout",
     "output_type": "stream",
     "text": [
      "Mean delta: 0.000\n",
      "Max delta: 0.000\n"
     ]
    }
   ],
   "source": [
    "delta = torch.abs(log_mel_output - log_mel_torchaudio)\n",
    "print(f\"Mean delta: {delta.mean().item():.3f}\")\n",
    "print(f\"Max delta: {delta.max().item():.3f}\")"
   ]
  },
  {
   "cell_type": "markdown",
   "metadata": {},
   "source": [
    "We see that the outputs of both our function and torchvision function are identical"
   ]
  },
  {
   "cell_type": "code",
   "execution_count": 44,
   "metadata": {},
   "outputs": [],
   "source": [
    "melspec = torchaudio.transforms.MelSpectrogram(\n",
    "    hop_length=160,\n",
    "    n_mels=80\n",
    ")(signal)\n",
    "logmelbanks = LogMelFilterBanks()(signal)\n",
    "\n",
    "assert torch.log(melspec + 1e-6).shape == logmelbanks.shape\n",
    "assert torch.allclose(torch.log(melspec + 1e-6), logmelbanks)"
   ]
  }
 ],
 "metadata": {
  "kernelspec": {
   "display_name": "Python 3 (ipykernel)",
   "language": "python",
   "name": "python3"
  },
  "language_info": {
   "codemirror_mode": {
    "name": "ipython",
    "version": 3
   },
   "file_extension": ".py",
   "mimetype": "text/x-python",
   "name": "python",
   "nbconvert_exporter": "python",
   "pygments_lexer": "ipython3",
   "version": "3.13.2"
  }
 },
 "nbformat": 4,
 "nbformat_minor": 2
}
